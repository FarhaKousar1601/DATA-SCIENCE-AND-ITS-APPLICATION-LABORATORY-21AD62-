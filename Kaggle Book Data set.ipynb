{
 "cells": [
  {
   "cell_type": "markdown",
   "id": "5884a478",
   "metadata": {
    "papermill": {
     "duration": 0.003109,
     "end_time": "2024-06-13T15:28:00.086709",
     "exception": false,
     "start_time": "2024-06-13T15:28:00.083600",
     "status": "completed"
    },
    "tags": []
   },
   "source": [
    "Aim: Consider the books dataset BL-Flickr-Images-Book.csv from Kaggle (https://www.kaggle.com/adeyoyintemidayo/publication-of-books) which contains information about books. Write a program to demonstrate the following.\n",
    "•\n",
    "Import the data into a DataFrame\n",
    "•\n",
    "Find and drop the columns which are irrelevant for the book information.\n",
    "•\n",
    "Change the Index of the DataFrame\n",
    "•\n",
    "Tidy up fields in the data such as date of publication with the help of simple regular expression.\n",
    "•\n",
    "Combine str methods with NumPy to clean columns"
   ]
  },
  {
   "cell_type": "code",
   "execution_count": 1,
   "id": "c05fce47",
   "metadata": {
    "execution": {
     "iopub.execute_input": "2024-06-13T15:28:00.094975Z",
     "iopub.status.busy": "2024-06-13T15:28:00.094354Z",
     "iopub.status.idle": "2024-06-13T15:28:01.304388Z",
     "shell.execute_reply": "2024-06-13T15:28:01.302696Z"
    },
    "papermill": {
     "duration": 1.217636,
     "end_time": "2024-06-13T15:28:01.307635",
     "exception": false,
     "start_time": "2024-06-13T15:28:00.089999",
     "status": "completed"
    },
    "tags": []
   },
   "outputs": [
    {
     "name": "stdout",
     "output_type": "stream",
     "text": [
      "Original DataFrame:\n",
      "   Identifier             Edition Statement      Place of Publication  \\\n",
      "0         206                           NaN                    London   \n",
      "1         216                           NaN  London; Virtue & Yorston   \n",
      "2         218                           NaN                    London   \n",
      "3         472                           NaN                    London   \n",
      "4         480  A new edition, revised, etc.                    London   \n",
      "\n",
      "  Date of Publication              Publisher  \\\n",
      "0         1879 [1878]       S. Tinsley & Co.   \n",
      "1                1868           Virtue & Co.   \n",
      "2                1869  Bradbury, Evans & Co.   \n",
      "3                1851          James Darling   \n",
      "4                1857   Wertheim & Macintosh   \n",
      "\n",
      "                                               Title     Author  \\\n",
      "0                  Walter Forbes. [A novel.] By A. A      A. A.   \n",
      "1  All for Greed. [A novel. The dedication signed...  A., A. A.   \n",
      "2  Love the Avenger. By the author of “All for Gr...  A., A. A.   \n",
      "3  Welsh Sketches, chiefly ecclesiastical, to the...  A., E. S.   \n",
      "4  [The World in which I live, and my place in it...  A., E. S.   \n",
      "\n",
      "                                   Contributors  Corporate Author  \\\n",
      "0                               FORBES, Walter.               NaN   \n",
      "1  BLAZE DE BURY, Marie Pauline Rose - Baroness               NaN   \n",
      "2  BLAZE DE BURY, Marie Pauline Rose - Baroness               NaN   \n",
      "3                   Appleyard, Ernest Silvanus.               NaN   \n",
      "4                           BROOME, John Henry.               NaN   \n",
      "\n",
      "   Corporate Contributors Former owner  Engraver Issuance type  \\\n",
      "0                     NaN          NaN       NaN   monographic   \n",
      "1                     NaN          NaN       NaN   monographic   \n",
      "2                     NaN          NaN       NaN   monographic   \n",
      "3                     NaN          NaN       NaN   monographic   \n",
      "4                     NaN          NaN       NaN   monographic   \n",
      "\n",
      "                                          Flickr URL  \\\n",
      "0  http://www.flickr.com/photos/britishlibrary/ta...   \n",
      "1  http://www.flickr.com/photos/britishlibrary/ta...   \n",
      "2  http://www.flickr.com/photos/britishlibrary/ta...   \n",
      "3  http://www.flickr.com/photos/britishlibrary/ta...   \n",
      "4  http://www.flickr.com/photos/britishlibrary/ta...   \n",
      "\n",
      "                            Shelfmarks  \n",
      "0    British Library HMNTS 12641.b.30.  \n",
      "1    British Library HMNTS 12626.cc.2.  \n",
      "2    British Library HMNTS 12625.dd.1.  \n",
      "3  British Library HMNTS 10369.bbb.15.  \n",
      "4     British Library HMNTS 9007.d.28.  \n",
      "\n",
      "Cleaned DataFrame:\n",
      "           Place of Publication Date of Publication              Publisher  \\\n",
      "Identifier                                                                   \n",
      "206                      London                1879       S. Tinsley & Co.   \n",
      "216                      London                1868           Virtue & Co.   \n",
      "218                      London                1869  Bradbury, Evans & Co.   \n",
      "472                      London                1851          James Darling   \n",
      "480                      London                1857   Wertheim & Macintosh   \n",
      "\n",
      "                                                        Title     Author  \\\n",
      "Identifier                                                                 \n",
      "206                         Walter Forbes. [A novel.] By A. A      A. A.   \n",
      "216         All for Greed. [A novel. The dedication signed...  A., A. A.   \n",
      "218         Love the Avenger. By the author of “All for Gr...  A., A. A.   \n",
      "472         Welsh Sketches, chiefly ecclesiastical, to the...  A., E. S.   \n",
      "480         [The World in which I live, and my place in it...  A., E. S.   \n",
      "\n",
      "                                                   Flickr URL  \n",
      "Identifier                                                     \n",
      "206         http://www.flickr.com/photos/britishlibrary/ta...  \n",
      "216         http://www.flickr.com/photos/britishlibrary/ta...  \n",
      "218         http://www.flickr.com/photos/britishlibrary/ta...  \n",
      "472         http://www.flickr.com/photos/britishlibrary/ta...  \n",
      "480         http://www.flickr.com/photos/britishlibrary/ta...  \n"
     ]
    }
   ],
   "source": [
    "import pandas as pd\n",
    "import numpy as np\n",
    "# Import the data into a DataFrame\n",
    "df = pd.read_csv('/kaggle/input/bl-flickr-images-book/BL-Flickr-Images-Book.csv')\n",
    "# Display the first few rows of the DataFrame\n",
    "print(\"Original DataFrame:\")\n",
    "print(df.head())\n",
    "# Find and drop the columns which are irrelevant for the book information\n",
    "irrelevant_columns = ['Edition Statement', 'Corporate Author', 'Corporate Contributors', 'Former owner', 'Engraver', 'Contributors', 'Issuance type', 'Shelfmarks']\n",
    "df.drop(columns=irrelevant_columns, inplace=True)\n",
    "# Change the Index of the DataFrame\n",
    "df.set_index('Identifier', inplace=True)\n",
    "# Tidy up fields in the data such as date of publication with the help of simple regular expression\n",
    "df['Date of Publication'] = df['Date of Publication'].str.extract(r'^(\\d{4})', expand=False)\n",
    "# Combine str methods with NumPy to clean columns\n",
    "df['Place of Publication'] = np.where(df['Place of Publication'].str.contains('London'), 'London', df['Place of Publication'].str.replace('-', ' '))\n",
    "# Display the cleaned DataFrame\n",
    "print(\"\\nCleaned DataFrame:\")\n",
    "print(df.head())"
   ]
  }
 ],
 "metadata": {
  "kaggle": {
   "accelerator": "none",
   "dataSources": [
    {
     "datasetId": 5206486,
     "sourceId": 8684287,
     "sourceType": "datasetVersion"
    }
   ],
   "dockerImageVersionId": 30732,
   "isGpuEnabled": false,
   "isInternetEnabled": true,
   "language": "python",
   "sourceType": "notebook"
  },
  "kernelspec": {
   "display_name": "Python 3",
   "language": "python",
   "name": "python3"
  },
  "language_info": {
   "codemirror_mode": {
    "name": "ipython",
    "version": 3
   },
   "file_extension": ".py",
   "mimetype": "text/x-python",
   "name": "python",
   "nbconvert_exporter": "python",
   "pygments_lexer": "ipython3",
   "version": "3.10.13"
  },
  "papermill": {
   "default_parameters": {},
   "duration": 5.457435,
   "end_time": "2024-06-13T15:28:02.035083",
   "environment_variables": {},
   "exception": null,
   "input_path": "__notebook__.ipynb",
   "output_path": "__notebook__.ipynb",
   "parameters": {},
   "start_time": "2024-06-13T15:27:56.577648",
   "version": "2.5.0"
  }
 },
 "nbformat": 4,
 "nbformat_minor": 5
}
