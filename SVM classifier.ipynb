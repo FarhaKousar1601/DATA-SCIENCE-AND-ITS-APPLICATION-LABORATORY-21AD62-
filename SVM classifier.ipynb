{
 "cells": [
  {
   "cell_type": "markdown",
   "id": "695b211d",
   "metadata": {
    "papermill": {
     "duration": 0.002078,
     "end_time": "2024-06-13T15:36:52.077835",
     "exception": false,
     "start_time": "2024-06-13T15:36:52.075757",
     "status": "completed"
    },
    "tags": []
   },
   "source": [
    "Aim: (B) Train an SVM classifier on the iris dataset using sklearn. Try different kernels and the associated hyperparameters. Train model with the following set of hyperparameters RBFkernel, gamma=0.5, one-vs-rest classifier, no-feature-normalization. Also try C=0.01,1,10C=0.01,1,10. For the above set of hyperparameters, find the best classification accuracy along with total number of support vectors on the test data."
   ]
  },
  {
   "cell_type": "code",
   "execution_count": 1,
   "id": "ae76c7ea",
   "metadata": {
    "execution": {
     "iopub.execute_input": "2024-06-13T15:36:52.082786Z",
     "iopub.status.busy": "2024-06-13T15:36:52.082397Z",
     "iopub.status.idle": "2024-06-13T15:36:53.665777Z",
     "shell.execute_reply": "2024-06-13T15:36:53.664421Z"
    },
    "papermill": {
     "duration": 1.588667,
     "end_time": "2024-06-13T15:36:53.668294",
     "exception": false,
     "start_time": "2024-06-13T15:36:52.079627",
     "status": "completed"
    },
    "tags": []
   },
   "outputs": [
    {
     "name": "stdout",
     "output_type": "stream",
     "text": [
      "For hyperparameters: {'kernel': 'rbf', 'gamma': 0.5, 'C': 0.01}, Accuracy: 0.3, Total Support Vectors: 120\n",
      "For hyperparameters: {'kernel': 'rbf', 'gamma': 0.5, 'C': 1}, Accuracy: 1.0, Total Support Vectors: 39\n",
      "For hyperparameters: {'kernel': 'rbf', 'gamma': 0.5, 'C': 10}, Accuracy: 1.0, Total Support Vectors: 31\n",
      "\n",
      "Best accuracy: 1.0\n",
      "Total support vectors on test data: 39\n"
     ]
    }
   ],
   "source": [
    "from sklearn.datasets import load_iris\n",
    "from sklearn.model_selection import train_test_split\n",
    "from sklearn.svm import SVC\n",
    "\n",
    "# Load the Iris dataset\n",
    "iris = load_iris()\n",
    "X = iris.data\n",
    "y = iris.target\n",
    "\n",
    "# Split the data into training and testing sets\n",
    "X_train, X_test, y_train, y_test = train_test_split(X, y, test_size=0.2, random_state=42)\n",
    "\n",
    "# Set of hyperparameters to try\n",
    "hyperparameters = [\n",
    "    {'kernel': 'rbf', 'gamma': 0.5, 'C': 0.01},\n",
    "    {'kernel': 'rbf', 'gamma': 0.5, 'C': 1},\n",
    "    {'kernel': 'rbf', 'gamma': 0.5, 'C': 10}\n",
    "]\n",
    "\n",
    "best_accuracy = 0\n",
    "best_model = None\n",
    "best_support_vectors = None\n",
    "\n",
    "# Train SVM models with different hyperparameters and find the best accuracy\n",
    "for params in hyperparameters:\n",
    "    model = SVC(kernel=params['kernel'], gamma=params['gamma'], C=params['C'], decision_function_shape='ovr')\n",
    "    model.fit(X_train, y_train)\n",
    "    accuracy = model.score(X_test, y_test)\n",
    "    support_vectors = model.n_support_.sum()\n",
    "    print(f\"For hyperparameters: {params}, Accuracy: {accuracy}, Total Support Vectors: {support_vectors}\")\n",
    "    \n",
    "    if accuracy > best_accuracy:\n",
    "        best_accuracy = accuracy\n",
    "        best_model = model\n",
    "        best_support_vectors = support_vectors\n",
    "\n",
    "print(\"\\nBest accuracy:\", best_accuracy)\n",
    "print(\"Total support vectors on test data:\", best_support_vectors)\n"
   ]
  }
 ],
 "metadata": {
  "kaggle": {
   "accelerator": "none",
   "dataSources": [],
   "dockerImageVersionId": 30732,
   "isGpuEnabled": false,
   "isInternetEnabled": true,
   "language": "python",
   "sourceType": "notebook"
  },
  "kernelspec": {
   "display_name": "Python 3",
   "language": "python",
   "name": "python3"
  },
  "language_info": {
   "codemirror_mode": {
    "name": "ipython",
    "version": 3
   },
   "file_extension": ".py",
   "mimetype": "text/x-python",
   "name": "python",
   "nbconvert_exporter": "python",
   "pygments_lexer": "ipython3",
   "version": "3.10.13"
  },
  "papermill": {
   "default_parameters": {},
   "duration": 4.859622,
   "end_time": "2024-06-13T15:36:54.191659",
   "environment_variables": {},
   "exception": null,
   "input_path": "__notebook__.ipynb",
   "output_path": "__notebook__.ipynb",
   "parameters": {},
   "start_time": "2024-06-13T15:36:49.332037",
   "version": "2.5.0"
  }
 },
 "nbformat": 4,
 "nbformat_minor": 5
}
