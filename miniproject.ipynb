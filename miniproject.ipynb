{
 "cells": [
  {
   "cell_type": "markdown",
   "id": "1c8a82da",
   "metadata": {
    "papermill": {
     "duration": 0.002421,
     "end_time": "2024-06-13T16:03:31.310184",
     "exception": false,
     "start_time": "2024-06-13T16:03:31.307763",
     "status": "completed"
    },
    "tags": []
   },
   "source": [
    "Aim: Mini Project – Simple web scrapping in social media"
   ]
  },
  {
   "cell_type": "code",
   "execution_count": 1,
   "id": "37ebd52d",
   "metadata": {
    "execution": {
     "iopub.execute_input": "2024-06-13T16:03:31.316095Z",
     "iopub.status.busy": "2024-06-13T16:03:31.315688Z",
     "iopub.status.idle": "2024-06-13T16:03:32.652110Z",
     "shell.execute_reply": "2024-06-13T16:03:32.650696Z"
    },
    "papermill": {
     "duration": 1.342431,
     "end_time": "2024-06-13T16:03:32.654759",
     "exception": false,
     "start_time": "2024-06-13T16:03:31.312328",
     "status": "completed"
    },
    "tags": []
   },
   "outputs": [
    {
     "name": "stdout",
     "output_type": "stream",
     "text": [
      "200\n"
     ]
    }
   ],
   "source": [
    "import requests\n",
    "from bs4 import BeautifulSoup\n",
    "\n",
    "# URL of the Instagram profile you want to scrape\n",
    "url = 'https://www.instagram.com/openai/'\n",
    "\n",
    "# Send a GET request to the URL\n",
    "response = requests.get(url)\n",
    "print(response.status_code)\n",
    "\n",
    "# Check if the request was successful (status code 200)\n",
    "if response.status_code == 200:\n",
    "    # Parse the HTML content of the page\n",
    "    soup = BeautifulSoup(response.text, 'html.parser')\n",
    "    \n",
    "    # Find all post elements\n",
    "    posts = soup.find_all('div', class_='v1Nh3')\n",
    "    \n",
    "    # Extract data from each post\n",
    "    for post in posts:\n",
    "        print(\"Hi\")\n",
    "        \n",
    "        # Extract post link\n",
    "        post_link = post.find('a')['href']\n",
    "        \n",
    "        # Extract post image URL\n",
    "        image_url = post.find('img')['src']\n",
    "        \n",
    "        print(f\"Post Link: {post_link}\")\n",
    "        print(f\"Image URL: {image_url}\")\n",
    "        print(\"------\")\n",
    "else:\n",
    "    print(\"Failed to retrieve data from Instagram\")\n"
   ]
  }
 ],
 "metadata": {
  "kaggle": {
   "accelerator": "none",
   "dataSources": [],
   "dockerImageVersionId": 30732,
   "isGpuEnabled": false,
   "isInternetEnabled": true,
   "language": "python",
   "sourceType": "notebook"
  },
  "kernelspec": {
   "display_name": "Python 3",
   "language": "python",
   "name": "python3"
  },
  "language_info": {
   "codemirror_mode": {
    "name": "ipython",
    "version": 3
   },
   "file_extension": ".py",
   "mimetype": "text/x-python",
   "name": "python",
   "nbconvert_exporter": "python",
   "pygments_lexer": "ipython3",
   "version": "3.10.13"
  },
  "papermill": {
   "default_parameters": {},
   "duration": 5.059233,
   "end_time": "2024-06-13T16:03:33.079529",
   "environment_variables": {},
   "exception": null,
   "input_path": "__notebook__.ipynb",
   "output_path": "__notebook__.ipynb",
   "parameters": {},
   "start_time": "2024-06-13T16:03:28.020296",
   "version": "2.5.0"
  }
 },
 "nbformat": 4,
 "nbformat_minor": 5
}
